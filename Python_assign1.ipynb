{
 "cells": [
  {
   "cell_type": "markdown",
   "id": "a52fe183",
   "metadata": {},
   "source": [
    "### Que 1: Write a program to check weather the input number is even or odd\n",
    "#### Input: 47\n",
    "#### Output: number is odd\n"
   ]
  },
  {
   "cell_type": "code",
   "execution_count": 1,
   "id": "b36530e9",
   "metadata": {},
   "outputs": [
    {
     "name": "stdout",
     "output_type": "stream",
     "text": [
      "Enter a number :47\n",
      "Number is odd\n"
     ]
    }
   ],
   "source": [
    "a=int(input('Enter a number :'))\n",
    "if a%2==0:\n",
    "    print('Number is even')\n",
    "else:\n",
    "    print('Number is odd')"
   ]
  },
  {
   "cell_type": "markdown",
   "id": "3e3b3da0",
   "metadata": {},
   "source": [
    "### Que 2: Write a program to take the following input and give the output like.\n",
    "#### input: a4b3c5\n",
    "#### output: aaaabbbccccc\n"
   ]
  },
  {
   "cell_type": "code",
   "execution_count": 2,
   "id": "0f5a8188",
   "metadata": {},
   "outputs": [
    {
     "name": "stdout",
     "output_type": "stream",
     "text": [
      "Enter a string :a4b3c5\n",
      "The required output is : aaaabbbccccc\n"
     ]
    }
   ],
   "source": [
    "string=input('Enter a string :')\n",
    "b=string[0::2]\n",
    "c=string[1::2]\n",
    "output=''\n",
    "for i in range(len(b)):\n",
    "    output=output+b[i]*int(c[i])\n",
    "print('The required output is :',output)"
   ]
  },
  {
   "cell_type": "markdown",
   "id": "1f5c3e2e",
   "metadata": {},
   "source": [
    "### Que 3: Write a program to calculate the electricity bill (accept number of unit from user) according to the following criteria:\n",
    "#### Unit                  -           Price\n",
    "#### First  100 units     -          no charge\n",
    "#### Next 100 units       -         Rs 5 per unit\n",
    "#### After 200 units        -       Rs 10 per unit\n",
    "##### (For example if input unit is 350 than total bill amount is Rs2000)\n"
   ]
  },
  {
   "cell_type": "code",
   "execution_count": 3,
   "id": "dc1e59fe",
   "metadata": {},
   "outputs": [
    {
     "name": "stdout",
     "output_type": "stream",
     "text": [
      "Enter number of units consumed :350\n",
      "The total bill amount is : 2000\n"
     ]
    }
   ],
   "source": [
    "n=int(input('Enter number of units consumed :'))\n",
    "if n<=100:\n",
    "    print('No charge')\n",
    "elif n>100 and n<=200:\n",
    "    print('The total bill amount is :',(n-100)*5)\n",
    "elif n>200:\n",
    "    amt=100*5+(n-200)*10\n",
    "    print('The total bill amount is :',amt)"
   ]
  }
 ],
 "metadata": {
  "kernelspec": {
   "display_name": "Python 3 (ipykernel)",
   "language": "python",
   "name": "python3"
  },
  "language_info": {
   "codemirror_mode": {
    "name": "ipython",
    "version": 3
   },
   "file_extension": ".py",
   "mimetype": "text/x-python",
   "name": "python",
   "nbconvert_exporter": "python",
   "pygments_lexer": "ipython3",
   "version": "3.11.1"
  }
 },
 "nbformat": 4,
 "nbformat_minor": 5
}
